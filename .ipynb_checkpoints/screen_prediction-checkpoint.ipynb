{
 "cells": [
  {
   "cell_type": "code",
   "execution_count": 14,
   "id": "a3e72c58",
   "metadata": {},
   "outputs": [
    {
     "name": "stdout",
     "output_type": "stream",
     "text": [
      "Collecting mss\n",
      "  Using cached mss-6.1.0-py3-none-any.whl (76 kB)\n",
      "Installing collected packages: mss\n",
      "Successfully installed mss-6.1.0\n",
      "Requirement already satisfied: keyboard in c:\\users\\oat35\\anaconda3\\lib\\site-packages (0.13.5)\n"
     ]
    }
   ],
   "source": [
    "#!conda install Image\n",
    "!pip install mss\n",
    "!pip install keyboard"
   ]
  },
  {
   "cell_type": "code",
   "execution_count": 22,
   "id": "7f0d597d",
   "metadata": {},
   "outputs": [],
   "source": [
    "import cv2\n",
    "from time import time\n",
    "from PIL import Image\n",
    "import numpy as np\n",
    "import keyboard\n",
    "from mss import mss\n"
   ]
  },
  {
   "cell_type": "code",
   "execution_count": 23,
   "id": "1ccf9776",
   "metadata": {},
   "outputs": [],
   "source": [
    "frame = {\"top\":120, \"left\":1146, \"width\":160, \"height\":150}"
   ]
  },
  {
   "cell_type": "code",
   "execution_count": 24,
   "id": "67a35e95",
   "metadata": {},
   "outputs": [],
   "source": [
    "screen_manager = mss()"
   ]
  },
  {
   "cell_type": "code",
   "execution_count": null,
   "id": "ca18c31d",
   "metadata": {},
   "outputs": [],
   "source": [
    "while True:\n",
    "    screenshot = screen_manager.grab(frame)\n",
    "    image = Image.frombytes(\"RGB\", screenshot.size, screenshot.rgb)\n",
    "    cv2.imshow(\"Screenshot\" ,np.array(image))\n",
    "    if cv2.waitKey(25) & 0xFF == ord(\"Q\"):\n",
    "        cv2.destroyAllWindows()\n",
    "        break"
   ]
  }
 ],
 "metadata": {
  "kernelspec": {
   "display_name": "Python 3 (ipykernel)",
   "language": "python",
   "name": "python3"
  },
  "language_info": {
   "codemirror_mode": {
    "name": "ipython",
    "version": 3
   },
   "file_extension": ".py",
   "mimetype": "text/x-python",
   "name": "python",
   "nbconvert_exporter": "python",
   "pygments_lexer": "ipython3",
   "version": "3.9.12"
  }
 },
 "nbformat": 4,
 "nbformat_minor": 5
}
